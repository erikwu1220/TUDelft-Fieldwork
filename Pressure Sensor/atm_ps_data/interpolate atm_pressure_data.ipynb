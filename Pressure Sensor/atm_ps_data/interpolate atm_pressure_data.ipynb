{
 "cells": [
  {
   "cell_type": "code",
   "execution_count": 1,
   "metadata": {},
   "outputs": [],
   "source": [
    "import pandas as pd\n",
    "import numpy as np\n",
    "import matplotlib.pyplot as plt\n",
    "from datetime import datetime"
   ]
  },
  {
   "cell_type": "code",
   "execution_count": 19,
   "metadata": {},
   "outputs": [
    {
     "data": {
      "text/html": [
       "<div>\n",
       "<style scoped>\n",
       "    .dataframe tbody tr th:only-of-type {\n",
       "        vertical-align: middle;\n",
       "    }\n",
       "\n",
       "    .dataframe tbody tr th {\n",
       "        vertical-align: top;\n",
       "    }\n",
       "\n",
       "    .dataframe thead th {\n",
       "        text-align: right;\n",
       "    }\n",
       "</style>\n",
       "<table border=\"1\" class=\"dataframe\">\n",
       "  <thead>\n",
       "    <tr style=\"text-align: right;\">\n",
       "      <th></th>\n",
       "      <th>P</th>\n",
       "    </tr>\n",
       "    <tr>\n",
       "      <th>Time</th>\n",
       "      <th></th>\n",
       "    </tr>\n",
       "  </thead>\n",
       "  <tbody>\n",
       "    <tr>\n",
       "      <th>2023-09-21 01:00:00</th>\n",
       "      <td>9968</td>\n",
       "    </tr>\n",
       "    <tr>\n",
       "      <th>2023-09-21 02:00:00</th>\n",
       "      <td>9968</td>\n",
       "    </tr>\n",
       "    <tr>\n",
       "      <th>2023-09-21 03:00:00</th>\n",
       "      <td>9962</td>\n",
       "    </tr>\n",
       "    <tr>\n",
       "      <th>2023-09-21 04:00:00</th>\n",
       "      <td>9959</td>\n",
       "    </tr>\n",
       "    <tr>\n",
       "      <th>2023-09-21 05:00:00</th>\n",
       "      <td>9965</td>\n",
       "    </tr>\n",
       "    <tr>\n",
       "      <th>...</th>\n",
       "      <td>...</td>\n",
       "    </tr>\n",
       "    <tr>\n",
       "      <th>2023-09-26 20:00:00</th>\n",
       "      <td>10190</td>\n",
       "    </tr>\n",
       "    <tr>\n",
       "      <th>2023-09-26 21:00:00</th>\n",
       "      <td>10192</td>\n",
       "    </tr>\n",
       "    <tr>\n",
       "      <th>2023-09-26 22:00:00</th>\n",
       "      <td>10191</td>\n",
       "    </tr>\n",
       "    <tr>\n",
       "      <th>2023-09-26 23:00:00</th>\n",
       "      <td>10191</td>\n",
       "    </tr>\n",
       "    <tr>\n",
       "      <th>2023-09-27 00:00:00</th>\n",
       "      <td>10194</td>\n",
       "    </tr>\n",
       "  </tbody>\n",
       "</table>\n",
       "<p>144 rows × 1 columns</p>\n",
       "</div>"
      ],
      "text/plain": [
       "                         P\n",
       "Time                      \n",
       "2023-09-21 01:00:00   9968\n",
       "2023-09-21 02:00:00   9968\n",
       "2023-09-21 03:00:00   9962\n",
       "2023-09-21 04:00:00   9959\n",
       "2023-09-21 05:00:00   9965\n",
       "...                    ...\n",
       "2023-09-26 20:00:00  10190\n",
       "2023-09-26 21:00:00  10192\n",
       "2023-09-26 22:00:00  10191\n",
       "2023-09-26 23:00:00  10191\n",
       "2023-09-27 00:00:00  10194\n",
       "\n",
       "[144 rows x 1 columns]"
      ]
     },
     "metadata": {},
     "output_type": "display_data"
    }
   ],
   "source": [
    "\"\"\"Data obtained from https://www.daggegevens.knmi.nl/klimatologie/uurgegevens, from location Hoek van Holland\n",
    "\n",
    "\n",
    "begin_time = 21-9-2023 00:00:00\n",
    "end_time   = 30-9-2023 00:00:00\n",
    "\"\"\"\n",
    "\n",
    "atm_data = pd.read_csv('atm_ps_data.txt', skiprows=8, skipinitialspace=True)\n",
    "\n",
    "time_data = []\n",
    "\n",
    "for i, ymd, h in zip(range(0, len(atm_data)), atm_data['YYYYMMDD'], atm_data['H']):\n",
    "    \n",
    "    if h < 10:\n",
    "        h = '0' + str(h)\n",
    "    else:\n",
    "        h = str(h)\n",
    "    \n",
    "    if h == '24':\n",
    "        h = '00'\n",
    "        ymd += 1\n",
    "    \n",
    "    ymd = str(ymd)\n",
    "    \n",
    "    y = ymd[0:4]\n",
    "    m = ymd[4:6]\n",
    "    d = ymd[6:8]\n",
    "    \n",
    "    date = y + '-' + m + '-' + d + ' ' + h\n",
    "    \n",
    "    time_data.append(datetime.strptime(date, '%Y-%m-%d %H'))\n",
    "    \n",
    "atm_data['Time'] = time_data\n",
    "\n",
    "atm_data.drop(labels=['YYYYMMDD', 'H', '# STN'], axis=1, inplace=True)\n",
    "\n",
    "atm_data.set_index('Time', inplace=True)\n",
    "\n",
    "display(atm_data)"
   ]
  },
  {
   "cell_type": "code",
   "execution_count": 57,
   "metadata": {},
   "outputs": [
    {
     "name": "stdout",
     "output_type": "stream",
     "text": [
      "2023-09-21 00:00:00\n",
      "2023-09-30 00:00:00\n"
     ]
    }
   ],
   "source": [
    "begin_time = datetime(2023, 9, 21)\n",
    "end_time = datetime(2023, 9, 30)\n",
    "\n",
    "print(begin_time)\n",
    "print(end_time)\n",
    "\n",
    "date_range = pd.date_range(start=begin_time, end=end_time, freq='0.125S')\n",
    "\n",
    "atm_data_interpolated = pd.DataFrame(index=date_range, columns=['P'], dtype='float64')\n",
    "\n",
    "for date in atm_data.index:\n",
    "    atm_data_interpolated['P'][date] = atm_data.loc[date]['P']\n",
    "\n",
    "atm_data_interpolated.interpolate(method='linear', axis=0, inplace=True)\n",
    "atm_data_interpolated.dropna(inplace=True)\n",
    "\n",
    "atm_data_interpolated['P [Pa]'] = atm_data_interpolated['P'] / 10 * 100\n",
    "\n",
    "atm_data_interpolated.drop(['P'], axis=1, inplace=True);"
   ]
  },
  {
   "cell_type": "code",
   "execution_count": 58,
   "metadata": {},
   "outputs": [
    {
     "data": {
      "text/html": [
       "<div>\n",
       "<style scoped>\n",
       "    .dataframe tbody tr th:only-of-type {\n",
       "        vertical-align: middle;\n",
       "    }\n",
       "\n",
       "    .dataframe tbody tr th {\n",
       "        vertical-align: top;\n",
       "    }\n",
       "\n",
       "    .dataframe thead th {\n",
       "        text-align: right;\n",
       "    }\n",
       "</style>\n",
       "<table border=\"1\" class=\"dataframe\">\n",
       "  <thead>\n",
       "    <tr style=\"text-align: right;\">\n",
       "      <th></th>\n",
       "      <th>P [Pa]</th>\n",
       "    </tr>\n",
       "  </thead>\n",
       "  <tbody>\n",
       "    <tr>\n",
       "      <th>2023-09-21 01:00:00.000</th>\n",
       "      <td>99680.0</td>\n",
       "    </tr>\n",
       "    <tr>\n",
       "      <th>2023-09-21 01:00:00.125</th>\n",
       "      <td>99680.0</td>\n",
       "    </tr>\n",
       "  </tbody>\n",
       "</table>\n",
       "</div>"
      ],
      "text/plain": [
       "                          P [Pa]\n",
       "2023-09-21 01:00:00.000  99680.0\n",
       "2023-09-21 01:00:00.125  99680.0"
      ]
     },
     "metadata": {},
     "output_type": "display_data"
    },
    {
     "data": {
      "text/plain": [
       "[<matplotlib.lines.Line2D at 0x1650a8dbb08>]"
      ]
     },
     "execution_count": 58,
     "metadata": {},
     "output_type": "execute_result"
    },
    {
     "data": {
      "image/png": "[encoded data removed]",
      "text/plain": [
       "<Figure size 1080x288 with 1 Axes>"
      ]
     },
     "metadata": {
      "needs_background": "light"
     },
     "output_type": "display_data"
    }
   ],
   "source": [
    "display(atm_data_interpolated.head(2))\n",
    "\n",
    "fig, ax = plt.subplots(figsize=(15, 4))\n",
    "ax.plot(atm_data_interpolated.index, atm_data_interpolated['P [Pa]'])"
   ]
  },
  {
   "cell_type": "code",
   "execution_count": 60,
   "metadata": {},
   "outputs": [],
   "source": [
    "atm_data_interpolated.to_csv('atm_ps_data_interpolated.txt', index_label='Time')"
   ]
  },
  {
   "cell_type": "code",
   "execution_count": 66,
   "metadata": {},
   "outputs": [
    {
     "name": "stdout",
     "output_type": "stream",
     "text": [
      "2022-01-01 00:00:00\n",
      "<class 'datetime.datetime'>\n"
     ]
    },
    {
     "data": {
      "text/plain": [
       "Timestamp('2023-09-21 01:00:00', freq='125L')"
      ]
     },
     "execution_count": 66,
     "metadata": {},
     "output_type": "execute_result"
    }
   ],
   "source": [
    "x = datetime(2022, 1, 1)\n",
    "\n",
    "print(x)\n",
    "print(type(x))\n",
    "\n",
    "atm_data_interpolated.index[0]"
   ]
  },
  {
   "cell_type": "code",
   "execution_count": 68,
   "metadata": {},
   "outputs": [
    {
     "data": {
      "text/html": [
       "<div>\n",
       "<style scoped>\n",
       "    .dataframe tbody tr th:only-of-type {\n",
       "        vertical-align: middle;\n",
       "    }\n",
       "\n",
       "    .dataframe tbody tr th {\n",
       "        vertical-align: top;\n",
       "    }\n",
       "\n",
       "    .dataframe thead th {\n",
       "        text-align: right;\n",
       "    }\n",
       "</style>\n",
       "<table border=\"1\" class=\"dataframe\">\n",
       "  <thead>\n",
       "    <tr style=\"text-align: right;\">\n",
       "      <th></th>\n",
       "      <th>Time</th>\n",
       "      <th>P [Pa]</th>\n",
       "    </tr>\n",
       "  </thead>\n",
       "  <tbody>\n",
       "    <tr>\n",
       "      <th>0</th>\n",
       "      <td>2023-09-21 01:00:00.000</td>\n",
       "      <td>99680.0</td>\n",
       "    </tr>\n",
       "    <tr>\n",
       "      <th>1</th>\n",
       "      <td>2023-09-21 01:00:00.125</td>\n",
       "      <td>99680.0</td>\n",
       "    </tr>\n",
       "    <tr>\n",
       "      <th>2</th>\n",
       "      <td>2023-09-21 01:00:00.250</td>\n",
       "      <td>99680.0</td>\n",
       "    </tr>\n",
       "    <tr>\n",
       "      <th>3</th>\n",
       "      <td>2023-09-21 01:00:00.375</td>\n",
       "      <td>99680.0</td>\n",
       "    </tr>\n",
       "    <tr>\n",
       "      <th>4</th>\n",
       "      <td>2023-09-21 01:00:00.500</td>\n",
       "      <td>99680.0</td>\n",
       "    </tr>\n",
       "    <tr>\n",
       "      <th>...</th>\n",
       "      <td>...</td>\n",
       "      <td>...</td>\n",
       "    </tr>\n",
       "    <tr>\n",
       "      <th>6191996</th>\n",
       "      <td>2023-09-29 23:59:59.500</td>\n",
       "      <td>101940.0</td>\n",
       "    </tr>\n",
       "    <tr>\n",
       "      <th>6191997</th>\n",
       "      <td>2023-09-29 23:59:59.625</td>\n",
       "      <td>101940.0</td>\n",
       "    </tr>\n",
       "    <tr>\n",
       "      <th>6191998</th>\n",
       "      <td>2023-09-29 23:59:59.750</td>\n",
       "      <td>101940.0</td>\n",
       "    </tr>\n",
       "    <tr>\n",
       "      <th>6191999</th>\n",
       "      <td>2023-09-29 23:59:59.875</td>\n",
       "      <td>101940.0</td>\n",
       "    </tr>\n",
       "    <tr>\n",
       "      <th>6192000</th>\n",
       "      <td>2023-09-30 00:00:00.000</td>\n",
       "      <td>101940.0</td>\n",
       "    </tr>\n",
       "  </tbody>\n",
       "</table>\n",
       "<p>6192001 rows × 2 columns</p>\n",
       "</div>"
      ],
      "text/plain": [
       "                           Time    P [Pa]\n",
       "0       2023-09-21 01:00:00.000   99680.0\n",
       "1       2023-09-21 01:00:00.125   99680.0\n",
       "2       2023-09-21 01:00:00.250   99680.0\n",
       "3       2023-09-21 01:00:00.375   99680.0\n",
       "4       2023-09-21 01:00:00.500   99680.0\n",
       "...                         ...       ...\n",
       "6191996 2023-09-29 23:59:59.500  101940.0\n",
       "6191997 2023-09-29 23:59:59.625  101940.0\n",
       "6191998 2023-09-29 23:59:59.750  101940.0\n",
       "6191999 2023-09-29 23:59:59.875  101940.0\n",
       "6192000 2023-09-30 00:00:00.000  101940.0\n",
       "\n",
       "[6192001 rows x 2 columns]"
      ]
     },
     "metadata": {},
     "output_type": "display_data"
    }
   ],
   "source": [
    "data = pd.read_csv('atm_ps_data_interpolated.txt', parse_dates=['Time'])\n",
    "display(data)"
   ]
  },
  {
   "cell_type": "code",
   "execution_count": null,
   "metadata": {},
   "outputs": [],
   "source": []
  }
 ],
 "metadata": {
  "kernelspec": {
   "display_name": "Python 3",
   "language": "python",
   "name": "python3"
  },
  "language_info": {
   "codemirror_mode": {
    "name": "ipython",
    "version": 3
   },
   "file_extension": ".py",
   "mimetype": "text/x-python",
   "name": "python",
   "nbconvert_exporter": "python",
   "pygments_lexer": "ipython3",
   "version": "3.7.5"
  }
 },
 "nbformat": 4,
 "nbformat_minor": 2
}
