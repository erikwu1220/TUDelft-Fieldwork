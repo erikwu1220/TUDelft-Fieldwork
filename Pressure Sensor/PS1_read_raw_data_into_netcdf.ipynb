{
 "cells": [
  {
   "cell_type": "markdown",
   "metadata": {},
   "source": [
    "### Import Packages"
   ]
  },
  {
   "cell_type": "code",
   "execution_count": 1,
   "metadata": {},
   "outputs": [],
   "source": [
    "import os\n",
    "import sys\n",
    "\n",
    "# !pip install xarray\n",
    "\n",
    "import numpy as np\n",
    "import pandas as pd\n",
    "from datetime import datetime\n",
    "import pdb\n",
    "import xarray as xr\n",
    "import matplotlib.pyplot as plt\n",
    "\n",
    "import solo\n",
    "\n",
    "sys.path.append(r'c:\\checkouts\\python\\TUD-COASTAL\\python')"
   ]
  },
  {
   "cell_type": "markdown",
   "metadata": {},
   "source": [
    "### Read and save pressure data\n",
    "Pressure data is read from the SOLO export format, and saved to a more readable file format"
   ]
  },
  {
   "cell_type": "code",
   "execution_count": 2,
   "metadata": {},
   "outputs": [],
   "source": [
    "instrument_name1 = \"ps1\"\n",
    "instrument_name2 = \"ps2\"\n",
    "instrument_name3 = \"ps3\"\n",
    "instrument_name4 = \"ps4\"\n",
    "instrument_name5 = \"ps5\"\n",
    "instrument_name6 = \"ps6\"\n",
    "\n",
    "\n",
    "isxy = {\n",
    "    instrument_name1:{'xRD':72409.749, 'yRD':452131.948, 'serial number':202438, 'ToT':'0929'},\n",
    "    instrument_name2:{'xRD':72399.133, 'yRD':452141.747, 'serial number':202439, 'ToT':'0929'},\n",
    "    instrument_name3:{'xRD':72390.365, 'yRD':452149.361, 'serial number':202440, 'ToT':'0929'},\n",
    "    instrument_name4:{'xRD':72381.722, 'yRD':452157.418, 'serial number':202441, 'ToT':'0929'},\n",
    "    instrument_name5:{'xRD':72373.330, 'yRD':452166.208, 'serial number':208681, 'ToT':'0929'},\n",
    "    instrument_name6:{'xRD':72364.268, 'yRD':452173.996, 'serial number':208682, 'ToT':'0929'},       \n",
    "       }\n",
    "\n",
    "fs_1234 = 8   # Hz\n",
    "fs_56   = 16  # Hz"
   ]
  },
  {
   "cell_type": "code",
   "execution_count": 3,
   "metadata": {},
   "outputs": [],
   "source": [
    "dsp1 = solo.Solo(instrumentName=instrument_name1, experimentFolder=f\"ps_data/raw_data/{instrument_name1}\",\n",
    "                 datafile=f\"202438_20230929_01_data.txt\", \n",
    "                 isxy=isxy, sf=fs_1234, jasave=True)\n",
    "\n",
    "dsp2 = solo.Solo(instrumentName=instrument_name2, experimentFolder=f\"ps_data/raw_data/{instrument_name2}\", \n",
    "                 datafile=f\"202439_20230929_02_data.txt\",\n",
    "                 isxy=isxy, sf=fs_1234, jasave=True)\n",
    "\n",
    "dsp3 = solo.Solo(instrumentName=instrument_name3, experimentFolder=f\"ps_data/raw_data/{instrument_name3}\", \n",
    "                 datafile=f\"202440_20230929_03_data.txt\",\n",
    "                 isxy=isxy, sf=fs_1234, jasave=True)\n",
    "\n",
    "dsp4 = solo.Solo(instrumentName=instrument_name4, experimentFolder=f\"ps_data/raw_data/{instrument_name4}\", \n",
    "                 datafile=f\"202441_20230929_04_data.txt\",\n",
    "                 isxy=isxy, sf=fs_1234, jasave=True)\n",
    "\n",
    "dsp5 = solo.Solo(instrumentName=instrument_name5, experimentFolder=f\"ps_data/raw_data/{instrument_name5}\", \n",
    "                 datafile=f\"208681_20230929_05_data.txt\",\n",
    "                 isxy=isxy, sf=fs_56, jasave=True)\n",
    "\n",
    "dsp6 = solo.Solo(instrumentName=instrument_name6, experimentFolder=f\"ps_data/raw_data/{instrument_name6}\", \n",
    "                 datafile=f\"208682_20230929_06_data.txt\",\n",
    "                 isxy=isxy, sf=fs_56, jasave=True)"
   ]
  },
  {
   "cell_type": "code",
   "execution_count": null,
   "metadata": {},
   "outputs": [],
   "source": []
  },
  {
   "cell_type": "code",
   "execution_count": null,
   "metadata": {},
   "outputs": [],
   "source": []
  },
  {
   "cell_type": "code",
   "execution_count": null,
   "metadata": {},
   "outputs": [],
   "source": []
  },
  {
   "cell_type": "code",
   "execution_count": null,
   "metadata": {},
   "outputs": [],
   "source": []
  },
  {
   "cell_type": "code",
   "execution_count": null,
   "metadata": {},
   "outputs": [],
   "source": []
  },
  {
   "cell_type": "code",
   "execution_count": null,
   "metadata": {},
   "outputs": [],
   "source": []
  }
 ],
 "metadata": {
  "kernelspec": {
   "display_name": "Python 3",
   "language": "python",
   "name": "python3"
  },
  "language_info": {
   "codemirror_mode": {
    "name": "ipython",
    "version": 3
   },
   "file_extension": ".py",
   "mimetype": "text/x-python",
   "name": "python",
   "nbconvert_exporter": "python",
   "pygments_lexer": "ipython3",
   "version": "3.7.5"
  }
 },
 "nbformat": 4,
 "nbformat_minor": 2
}
